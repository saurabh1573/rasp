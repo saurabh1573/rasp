{
  "nbformat": 4,
  "nbformat_minor": 0,
  "metadata": {
    "colab": {
      "name": "Longest AND subarray.ipynb",
      "provenance": [],
      "collapsed_sections": [],
      "authorship_tag": "ABX9TyOPUkQXv9XWtnsR5wuiVjRu",
      "include_colab_link": true
    },
    "kernelspec": {
      "name": "python3",
      "display_name": "Python 3"
    },
    "language_info": {
      "name": "python"
    }
  },
  "cells": [
    {
      "cell_type": "markdown",
      "metadata": {
        "id": "view-in-github",
        "colab_type": "text"
      },
      "source": [
        "<a href=\"https://colab.research.google.com/github/saurabh1573/rasp/blob/master/Longest_AND_subarray.ipynb\" target=\"_parent\"><img src=\"https://colab.research.google.com/assets/colab-badge.svg\" alt=\"Open In Colab\"/></a>"
      ]
    },
    {
      "cell_type": "code",
      "metadata": {
        "colab": {
          "base_uri": "https://localhost:8080/"
        },
        "id": "ezxsCZKkn4g4",
        "outputId": "c3033bb7-0b13-43b0-d983-557803340575"
      },
      "source": [
        "# cook your dish here\n",
        "t=int(input())\n",
        "for i in range(t):\n",
        "    n=int(input())\n",
        "    k=0\n",
        "    if n==1 or n==2:\n",
        "        print(1)\n",
        "        continue\n",
        "    for i in range(1,30):\n",
        "        if n>2**i and n<2**(i+1):\n",
        "            if n>=2**i+((2**(i+1)-2**i)/2):\n",
        "                k=n-2**(i)+1\n",
        "            else:\n",
        "                k=2**i-2**(i-1)\n",
        "        if n==2**(i):\n",
        "            k=(2**i-2**(i-1))\n",
        "    print(k)"
      ],
      "execution_count": 1,
      "outputs": [
        {
          "output_type": "stream",
          "name": "stdout",
          "text": [
            "5\n",
            "1\n",
            "1\n",
            "2\n",
            "1\n",
            "3\n",
            "2\n",
            "4\n",
            "2\n",
            "9\n",
            "4\n"
          ]
        }
      ]
    },
    {
      "cell_type": "markdown",
      "metadata": {
        "id": "VTc67ENZn6Pn"
      },
      "source": [
        "Q.  You are given an integer N. Consider the sequence containing the integers 1,2,…,N in increasing order (each exactly once). Find the length of the longest subarray in this sequence such that the bitwise AND of all elements in the subarray is positive."
      ]
    }
  ]
}